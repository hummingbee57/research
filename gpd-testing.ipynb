{
 "cells": [
  {
   "cell_type": "markdown",
   "metadata": {},
   "source": [
    "# Geopandas Playground\n",
    "Playing around in Geopandas to test its suitability for the research project"
   ]
  },
  {
   "cell_type": "code",
   "execution_count": 2,
   "metadata": {},
   "outputs": [],
   "source": [
    "import pandas as pd\n",
    "import geopandas as gpd\n",
    "from shapely.geometry import Point, Polygon\n",
    "import matplotlib.pyplot as plt\n",
    "from sklearn import svm\n",
    "from sklearn.model_selection import train_test_split\n",
    "\n",
    "%matplotlib inline"
   ]
  },
  {
   "cell_type": "markdown",
   "metadata": {},
   "source": [
    "Attempting to read the geodatabase from [CALFIRE](https://www.fire.ca.gov/what-we-do/fire-resource-assessment-program/fire-perimeters)"
   ]
  },
  {
   "cell_type": "code",
   "execution_count": 3,
   "metadata": {},
   "outputs": [],
   "source": [
    "calfires = gpd.read_file(\"fire22_1.gdb\")"
   ]
  },
  {
   "cell_type": "code",
   "execution_count": 4,
   "metadata": {},
   "outputs": [
    {
     "data": {
      "text/html": [
       "<div>\n",
       "<style scoped>\n",
       "    .dataframe tbody tr th:only-of-type {\n",
       "        vertical-align: middle;\n",
       "    }\n",
       "\n",
       "    .dataframe tbody tr th {\n",
       "        vertical-align: top;\n",
       "    }\n",
       "\n",
       "    .dataframe thead th {\n",
       "        text-align: right;\n",
       "    }\n",
       "</style>\n",
       "<table border=\"1\" class=\"dataframe\">\n",
       "  <thead>\n",
       "    <tr style=\"text-align: right;\">\n",
       "      <th></th>\n",
       "      <th>YEAR_</th>\n",
       "      <th>STATE</th>\n",
       "      <th>AGENCY</th>\n",
       "      <th>UNIT_ID</th>\n",
       "      <th>TREATMENT_ID</th>\n",
       "      <th>TREATMENT_NAME</th>\n",
       "      <th>START_DATE</th>\n",
       "      <th>END_DATE</th>\n",
       "      <th>TREATED_AC</th>\n",
       "      <th>GIS_ACRES</th>\n",
       "      <th>RX_CONSUM</th>\n",
       "      <th>PRE_CON_CLASS</th>\n",
       "      <th>POST_CON_CLASS</th>\n",
       "      <th>TREATMENT_TYPE</th>\n",
       "      <th>Shape_Length</th>\n",
       "      <th>Shape_Area</th>\n",
       "      <th>geometry</th>\n",
       "    </tr>\n",
       "  </thead>\n",
       "  <tbody>\n",
       "    <tr>\n",
       "      <th>0</th>\n",
       "      <td>2020</td>\n",
       "      <td>CA</td>\n",
       "      <td>CDF</td>\n",
       "      <td>AEU</td>\n",
       "      <td>10509</td>\n",
       "      <td>Jan 31 2020 Broadcast</td>\n",
       "      <td>2020-01-31 00:00:00+00:00</td>\n",
       "      <td>2020-01-31T00:00:00+00:00</td>\n",
       "      <td>15.0</td>\n",
       "      <td>15.047042</td>\n",
       "      <td>NaN</td>\n",
       "      <td>NaN</td>\n",
       "      <td>NaN</td>\n",
       "      <td>1.0</td>\n",
       "      <td>1365.887529</td>\n",
       "      <td>60893.216906</td>\n",
       "      <td>MULTIPOLYGON (((-45261.902 81865.442, -45248.3...</td>\n",
       "    </tr>\n",
       "    <tr>\n",
       "      <th>1</th>\n",
       "      <td>2020</td>\n",
       "      <td>CA</td>\n",
       "      <td>PVT</td>\n",
       "      <td>AEU</td>\n",
       "      <td>10572</td>\n",
       "      <td>2020 Fuels Reduction</td>\n",
       "      <td>2020-02-13 00:00:00+00:00</td>\n",
       "      <td>2020-02-13T00:00:00+00:00</td>\n",
       "      <td>22.3</td>\n",
       "      <td>36.739700</td>\n",
       "      <td>NaN</td>\n",
       "      <td>NaN</td>\n",
       "      <td>NaN</td>\n",
       "      <td>1.0</td>\n",
       "      <td>2681.610336</td>\n",
       "      <td>148680.293398</td>\n",
       "      <td>MULTIPOLYGON (((-57222.192 98500.043, -57231.6...</td>\n",
       "    </tr>\n",
       "    <tr>\n",
       "      <th>2</th>\n",
       "      <td>2020</td>\n",
       "      <td>CA</td>\n",
       "      <td>CDF</td>\n",
       "      <td>AEU</td>\n",
       "      <td>10630</td>\n",
       "      <td>Feb 2020 Broadcast</td>\n",
       "      <td>2020-02-13 00:00:00+00:00</td>\n",
       "      <td>2020-02-18T00:00:00+00:00</td>\n",
       "      <td>22.4</td>\n",
       "      <td>38.839832</td>\n",
       "      <td>NaN</td>\n",
       "      <td>NaN</td>\n",
       "      <td>NaN</td>\n",
       "      <td>1.0</td>\n",
       "      <td>3918.219956</td>\n",
       "      <td>157179.228865</td>\n",
       "      <td>MULTIPOLYGON (((-49821.237 54143.575, -49815.4...</td>\n",
       "    </tr>\n",
       "    <tr>\n",
       "      <th>3</th>\n",
       "      <td>2020</td>\n",
       "      <td>CA</td>\n",
       "      <td>CDF</td>\n",
       "      <td>AEU</td>\n",
       "      <td>10639</td>\n",
       "      <td>Feb 2020 Broadcast</td>\n",
       "      <td>2020-02-11 00:00:00+00:00</td>\n",
       "      <td>2020-02-20T00:00:00+00:00</td>\n",
       "      <td>75.5</td>\n",
       "      <td>75.498100</td>\n",
       "      <td>NaN</td>\n",
       "      <td>NaN</td>\n",
       "      <td>NaN</td>\n",
       "      <td>1.0</td>\n",
       "      <td>3918.834462</td>\n",
       "      <td>305529.980211</td>\n",
       "      <td>MULTIPOLYGON (((-47052.539 80922.773, -47052.5...</td>\n",
       "    </tr>\n",
       "    <tr>\n",
       "      <th>4</th>\n",
       "      <td>2020</td>\n",
       "      <td>CA</td>\n",
       "      <td>CDF</td>\n",
       "      <td>AEU</td>\n",
       "      <td>10780</td>\n",
       "      <td>Mar 3 2020 Broadcast</td>\n",
       "      <td>2020-03-03 00:00:00+00:00</td>\n",
       "      <td>2020-03-03T00:00:00+00:00</td>\n",
       "      <td>61.8</td>\n",
       "      <td>61.771519</td>\n",
       "      <td>NaN</td>\n",
       "      <td>NaN</td>\n",
       "      <td>NaN</td>\n",
       "      <td>1.0</td>\n",
       "      <td>2769.034316</td>\n",
       "      <td>249980.461716</td>\n",
       "      <td>MULTIPOLYGON (((-47591.189 80696.956, -47590.2...</td>\n",
       "    </tr>\n",
       "  </tbody>\n",
       "</table>\n",
       "</div>"
      ],
      "text/plain": [
       "  YEAR_ STATE AGENCY UNIT_ID TREATMENT_ID         TREATMENT_NAME  \\\n",
       "0  2020    CA    CDF     AEU        10509  Jan 31 2020 Broadcast   \n",
       "1  2020    CA    PVT     AEU        10572   2020 Fuels Reduction   \n",
       "2  2020    CA    CDF     AEU        10630     Feb 2020 Broadcast   \n",
       "3  2020    CA    CDF     AEU        10639     Feb 2020 Broadcast   \n",
       "4  2020    CA    CDF     AEU        10780   Mar 3 2020 Broadcast   \n",
       "\n",
       "                 START_DATE                   END_DATE  TREATED_AC  GIS_ACRES  \\\n",
       "0 2020-01-31 00:00:00+00:00  2020-01-31T00:00:00+00:00        15.0  15.047042   \n",
       "1 2020-02-13 00:00:00+00:00  2020-02-13T00:00:00+00:00        22.3  36.739700   \n",
       "2 2020-02-13 00:00:00+00:00  2020-02-18T00:00:00+00:00        22.4  38.839832   \n",
       "3 2020-02-11 00:00:00+00:00  2020-02-20T00:00:00+00:00        75.5  75.498100   \n",
       "4 2020-03-03 00:00:00+00:00  2020-03-03T00:00:00+00:00        61.8  61.771519   \n",
       "\n",
       "   RX_CONSUM  PRE_CON_CLASS  POST_CON_CLASS  TREATMENT_TYPE  Shape_Length  \\\n",
       "0        NaN            NaN             NaN             1.0   1365.887529   \n",
       "1        NaN            NaN             NaN             1.0   2681.610336   \n",
       "2        NaN            NaN             NaN             1.0   3918.219956   \n",
       "3        NaN            NaN             NaN             1.0   3918.834462   \n",
       "4        NaN            NaN             NaN             1.0   2769.034316   \n",
       "\n",
       "      Shape_Area                                           geometry  \n",
       "0   60893.216906  MULTIPOLYGON (((-45261.902 81865.442, -45248.3...  \n",
       "1  148680.293398  MULTIPOLYGON (((-57222.192 98500.043, -57231.6...  \n",
       "2  157179.228865  MULTIPOLYGON (((-49821.237 54143.575, -49815.4...  \n",
       "3  305529.980211  MULTIPOLYGON (((-47052.539 80922.773, -47052.5...  \n",
       "4  249980.461716  MULTIPOLYGON (((-47591.189 80696.956, -47590.2...  "
      ]
     },
     "execution_count": 4,
     "metadata": {},
     "output_type": "execute_result"
    }
   ],
   "source": [
    "# seeing what it looks like\n",
    "calfires.head()"
   ]
  },
  {
   "cell_type": "code",
   "execution_count": 5,
   "metadata": {},
   "outputs": [
    {
     "name": "stdout",
     "output_type": "stream",
     "text": [
      "     YEAR_\n",
      "0     2020\n",
      "1     2020\n",
      "2     2020\n",
      "3     2020\n",
      "4     2020\n",
      "...    ...\n",
      "8630  2022\n",
      "8631  2022\n",
      "8632  2022\n",
      "8633  2022\n",
      "8634  2022\n",
      "\n",
      "[8635 rows x 1 columns]\n"
     ]
    }
   ],
   "source": [
    "print(calfires[[\"YEAR_\"]])"
   ]
  },
  {
   "cell_type": "code",
   "execution_count": 6,
   "metadata": {},
   "outputs": [
    {
     "data": {
      "text/plain": [
       "<AxesSubplot:>"
      ]
     },
     "execution_count": 6,
     "metadata": {},
     "output_type": "execute_result"
    },
    {
     "data": {
      "image/png": "[encoded data removed]",
      "text/plain": [
       "<Figure size 432x288 with 1 Axes>"
      ]
     },
     "metadata": {
      "needs_background": "light"
     },
     "output_type": "display_data"
    }
   ],
   "source": [
    "calfires.plot()"
   ]
  },
  {
   "cell_type": "markdown",
   "metadata": {},
   "source": [
    "Trying to find the lowest year because for some reason all of the years are STRINGS????"
   ]
  },
  {
   "cell_type": "code",
   "execution_count": 7,
   "metadata": {},
   "outputs": [
    {
     "name": "stdout",
     "output_type": "stream",
     "text": [
      "no year, just \n",
      "\n",
      "no year, just \n",
      "\n",
      "no year, just \n",
      " \n",
      "no year, just \n",
      " \n",
      "no year, just \n",
      " \n",
      "no year, just \n",
      " \n",
      "no year, just \n",
      " \n",
      "no year, just \n",
      " \n",
      "no year, just \n",
      " \n",
      "no year, just \n",
      " \n",
      "no year, just \n",
      " \n",
      "no year, just \n",
      " \n",
      "no year, just \n",
      " \n",
      "no year, just \n",
      " \n",
      "no year, just \n",
      " \n",
      "no year, just \n",
      " \n",
      "no year, just \n",
      " \n",
      "no year, just \n",
      " \n",
      "no year, just \n",
      " \n",
      "no year, just \n",
      " \n",
      "no year, just \n",
      " \n",
      "1900\n"
     ]
    }
   ],
   "source": [
    "lowest_year = 2023\n",
    "for i in calfires.YEAR_:\n",
    "    try:\n",
    "        if int(i) < lowest_year:\n",
    "            lowest_year = int(i)\n",
    "    except:\n",
    "        print(\"no year, just \")\n",
    "        print(i)\n",
    "\n",
    "print(lowest_year)"
   ]
  },
  {
   "cell_type": "markdown",
   "metadata": {},
   "source": [
    "Finding how many fires are from each year"
   ]
  },
  {
   "cell_type": "code",
   "execution_count": 8,
   "metadata": {},
   "outputs": [
    {
     "name": "stdout",
     "output_type": "stream",
     "text": [
      "{2020: 706, 2017: 242, 2015: 152, 2014: 129, 1998: 78, 1997: 77, 1993: 65, 1999: 66, 1996: 58, 2006: 405, 1995: 81, 2004: 186, 2005: 370, 2002: 65, 1991: 58, 1994: 64, 2000: 40, 1989: 67, 1983: 106, 1968: 6, 1979: 64, 1977: 38, 1974: 7, 1975: 12, 1981: 105, 1980: 52, 1976: 13, 2001: 75, 2010: 234, 2013: 173, 2009: 224, 2011: 257, 2007: 210, 2008: 242, 2012: 134, 1984: 71, 1985: 58, 1960: 25, 1966: 6, 1961: 3, 1962: 7, 1954: 29, 1955: 17, 1928: 1, 1933: 1, 1946: 2, 1947: 2, 1950: 7, 1951: 19, 2003: 92, 1986: 50, 1965: 8, 1967: 6, 1969: 4, 1970: 10, 1971: 11, 1972: 10, 1973: 1, 1978: 10, 1963: 4, 1964: 9, 1990: 84, 1987: 46, 1982: 98, 1992: 37, 1956: 20, 1957: 18, 1952: 18, 1988: 53, 1959: 4, 1900: 4, 1910: 1, 1911: 1, 1912: 1, 1913: 1, 1914: 1, 1915: 12, 1916: 3, 1917: 2, 1919: 2, 0: 21, 1922: 1, 1923: 1, 1924: 4, 1958: 22, 1953: 26, 2016: 53, 2018: 446, 2019: 1034, 2021: 692, 2022: 605}\n"
     ]
    },
    {
     "data": {
      "text/plain": [
       "808"
      ]
     },
     "execution_count": 8,
     "metadata": {},
     "output_type": "execute_result"
    }
   ],
   "source": [
    "no_year = open(\"no_years.txt\", \"w\")\n",
    "write_to = \"\"\n",
    "year_count = {}\n",
    "year_dist = open(\"year_dist.csv\", \"w\")\n",
    "\n",
    "for i in calfires.index:\n",
    "    year = 0\n",
    "    try:\n",
    "        year = int(calfires[\"YEAR_\"][i])\n",
    "    except:\n",
    "        write_to += str(i)\n",
    "        write_to += \"\\n\"\n",
    "\n",
    "    if year not in year_count.keys():\n",
    "        year_count[year] = 1\n",
    "    else:\n",
    "        year_count[year] += 1\n",
    "\n",
    "no_year.write(write_to)\n",
    "print(year_count)\n",
    "\n",
    "year_dist_str = \"\"\n",
    "for i in year_count.keys():\n",
    "    year_dist_str += str(i)\n",
    "    year_dist_str += \", \"\n",
    "    year_dist_str += str(year_count[i])\n",
    "    year_dist_str += \"\\n\"\n",
    "\n",
    "year_dist.write(year_dist_str)"
   ]
  },
  {
   "cell_type": "code",
   "execution_count": null,
   "metadata": {},
   "outputs": [],
   "source": []
  },
  {
   "cell_type": "markdown",
   "metadata": {},
   "source": [
    "Attempting to use sklearn's Support Vector Machine algorithm on the geodataframe"
   ]
  },
  {
   "cell_type": "code",
   "execution_count": 9,
   "metadata": {},
   "outputs": [
    {
     "ename": "KeyError",
     "evalue": "\"['ALARM_DATE', 'CAUSE', 'REPORT_AC'] not in index\"",
     "output_type": "error",
     "traceback": [
      "\u001b[0;31m---------------------------------------------------------------------------\u001b[0m",
      "\u001b[0;31mKeyError\u001b[0m                                  Traceback (most recent call last)",
      "Cell \u001b[0;32mIn[9], line 1\u001b[0m\n\u001b[0;32m----> 1\u001b[0m X \u001b[38;5;241m=\u001b[39m \u001b[43mcalfires\u001b[49m\u001b[43m[\u001b[49m\u001b[43m[\u001b[49m\u001b[38;5;124;43m\"\u001b[39;49m\u001b[38;5;124;43mYEAR_\u001b[39;49m\u001b[38;5;124;43m\"\u001b[39;49m\u001b[43m,\u001b[49m\u001b[43m \u001b[49m\u001b[38;5;124;43m\"\u001b[39;49m\u001b[38;5;124;43mALARM_DATE\u001b[39;49m\u001b[38;5;124;43m\"\u001b[39;49m\u001b[43m,\u001b[49m\u001b[43m \u001b[49m\u001b[38;5;124;43m\"\u001b[39;49m\u001b[38;5;124;43mCAUSE\u001b[39;49m\u001b[38;5;124;43m\"\u001b[39;49m\u001b[43m,\u001b[49m\u001b[43m \u001b[49m\u001b[38;5;124;43m\"\u001b[39;49m\u001b[38;5;124;43mREPORT_AC\u001b[39;49m\u001b[38;5;124;43m\"\u001b[39;49m\u001b[43m]\u001b[49m\u001b[43m]\u001b[49m\n\u001b[1;32m      2\u001b[0m y \u001b[38;5;241m=\u001b[39m calfires[[\u001b[38;5;124m\"\u001b[39m\u001b[38;5;124mgeometry\u001b[39m\u001b[38;5;124m\"\u001b[39m]]\n\u001b[1;32m      4\u001b[0m train_X, test_X \u001b[38;5;241m=\u001b[39m train_test_split(X, test_size\u001b[38;5;241m=\u001b[39m\u001b[38;5;241m.1\u001b[39m, random_state\u001b[38;5;241m=\u001b[39m\u001b[38;5;241m1\u001b[39m)\n",
      "File \u001b[0;32m~/.local/lib/python3.10/site-packages/geopandas/geodataframe.py:1474\u001b[0m, in \u001b[0;36mGeoDataFrame.__getitem__\u001b[0;34m(self, key)\u001b[0m\n\u001b[1;32m   1468\u001b[0m \u001b[38;5;28;01mdef\u001b[39;00m \u001b[38;5;21m__getitem__\u001b[39m(\u001b[38;5;28mself\u001b[39m, key):\n\u001b[1;32m   1469\u001b[0m     \u001b[38;5;124;03m\"\"\"\u001b[39;00m\n\u001b[1;32m   1470\u001b[0m \u001b[38;5;124;03m    If the result is a column containing only 'geometry', return a\u001b[39;00m\n\u001b[1;32m   1471\u001b[0m \u001b[38;5;124;03m    GeoSeries. If it's a DataFrame with any columns of GeometryDtype,\u001b[39;00m\n\u001b[1;32m   1472\u001b[0m \u001b[38;5;124;03m    return a GeoDataFrame.\u001b[39;00m\n\u001b[1;32m   1473\u001b[0m \u001b[38;5;124;03m    \"\"\"\u001b[39;00m\n\u001b[0;32m-> 1474\u001b[0m     result \u001b[38;5;241m=\u001b[39m \u001b[38;5;28;43msuper\u001b[39;49m\u001b[43m(\u001b[49m\u001b[43m)\u001b[49m\u001b[38;5;241;43m.\u001b[39;49m\u001b[38;5;21;43m__getitem__\u001b[39;49m\u001b[43m(\u001b[49m\u001b[43mkey\u001b[49m\u001b[43m)\u001b[49m\n\u001b[1;32m   1475\u001b[0m     \u001b[38;5;66;03m# Custom logic to avoid waiting for pandas GH51895\u001b[39;00m\n\u001b[1;32m   1476\u001b[0m     \u001b[38;5;66;03m# result is not geometry dtype for multi-indexes\u001b[39;00m\n\u001b[1;32m   1477\u001b[0m     \u001b[38;5;28;01mif\u001b[39;00m (\n\u001b[1;32m   1478\u001b[0m         pd\u001b[38;5;241m.\u001b[39mapi\u001b[38;5;241m.\u001b[39mtypes\u001b[38;5;241m.\u001b[39mis_scalar(key)\n\u001b[1;32m   1479\u001b[0m         \u001b[38;5;129;01mand\u001b[39;00m key \u001b[38;5;241m==\u001b[39m \u001b[38;5;124m\"\u001b[39m\u001b[38;5;124m\"\u001b[39m\n\u001b[0;32m   (...)\u001b[0m\n\u001b[1;32m   1482\u001b[0m         \u001b[38;5;129;01mand\u001b[39;00m \u001b[38;5;129;01mnot\u001b[39;00m is_geometry_type(result)\n\u001b[1;32m   1483\u001b[0m     ):\n",
      "File \u001b[0;32m~/.local/lib/python3.10/site-packages/pandas/core/frame.py:3899\u001b[0m, in \u001b[0;36mDataFrame.__getitem__\u001b[0;34m(self, key)\u001b[0m\n\u001b[1;32m   3897\u001b[0m     \u001b[38;5;28;01mif\u001b[39;00m is_iterator(key):\n\u001b[1;32m   3898\u001b[0m         key \u001b[38;5;241m=\u001b[39m \u001b[38;5;28mlist\u001b[39m(key)\n\u001b[0;32m-> 3899\u001b[0m     indexer \u001b[38;5;241m=\u001b[39m \u001b[38;5;28;43mself\u001b[39;49m\u001b[38;5;241;43m.\u001b[39;49m\u001b[43mcolumns\u001b[49m\u001b[38;5;241;43m.\u001b[39;49m\u001b[43m_get_indexer_strict\u001b[49m\u001b[43m(\u001b[49m\u001b[43mkey\u001b[49m\u001b[43m,\u001b[49m\u001b[43m \u001b[49m\u001b[38;5;124;43m\"\u001b[39;49m\u001b[38;5;124;43mcolumns\u001b[39;49m\u001b[38;5;124;43m\"\u001b[39;49m\u001b[43m)\u001b[49m[\u001b[38;5;241m1\u001b[39m]\n\u001b[1;32m   3901\u001b[0m \u001b[38;5;66;03m# take() does not accept boolean indexers\u001b[39;00m\n\u001b[1;32m   3902\u001b[0m \u001b[38;5;28;01mif\u001b[39;00m \u001b[38;5;28mgetattr\u001b[39m(indexer, \u001b[38;5;124m\"\u001b[39m\u001b[38;5;124mdtype\u001b[39m\u001b[38;5;124m\"\u001b[39m, \u001b[38;5;28;01mNone\u001b[39;00m) \u001b[38;5;241m==\u001b[39m \u001b[38;5;28mbool\u001b[39m:\n",
      "File \u001b[0;32m~/.local/lib/python3.10/site-packages/pandas/core/indexes/base.py:6115\u001b[0m, in \u001b[0;36mIndex._get_indexer_strict\u001b[0;34m(self, key, axis_name)\u001b[0m\n\u001b[1;32m   6112\u001b[0m \u001b[38;5;28;01melse\u001b[39;00m:\n\u001b[1;32m   6113\u001b[0m     keyarr, indexer, new_indexer \u001b[38;5;241m=\u001b[39m \u001b[38;5;28mself\u001b[39m\u001b[38;5;241m.\u001b[39m_reindex_non_unique(keyarr)\n\u001b[0;32m-> 6115\u001b[0m \u001b[38;5;28;43mself\u001b[39;49m\u001b[38;5;241;43m.\u001b[39;49m\u001b[43m_raise_if_missing\u001b[49m\u001b[43m(\u001b[49m\u001b[43mkeyarr\u001b[49m\u001b[43m,\u001b[49m\u001b[43m \u001b[49m\u001b[43mindexer\u001b[49m\u001b[43m,\u001b[49m\u001b[43m \u001b[49m\u001b[43maxis_name\u001b[49m\u001b[43m)\u001b[49m\n\u001b[1;32m   6117\u001b[0m keyarr \u001b[38;5;241m=\u001b[39m \u001b[38;5;28mself\u001b[39m\u001b[38;5;241m.\u001b[39mtake(indexer)\n\u001b[1;32m   6118\u001b[0m \u001b[38;5;28;01mif\u001b[39;00m \u001b[38;5;28misinstance\u001b[39m(key, Index):\n\u001b[1;32m   6119\u001b[0m     \u001b[38;5;66;03m# GH 42790 - Preserve name from an Index\u001b[39;00m\n",
      "File \u001b[0;32m~/.local/lib/python3.10/site-packages/pandas/core/indexes/base.py:6179\u001b[0m, in \u001b[0;36mIndex._raise_if_missing\u001b[0;34m(self, key, indexer, axis_name)\u001b[0m\n\u001b[1;32m   6176\u001b[0m     \u001b[38;5;28;01mraise\u001b[39;00m \u001b[38;5;167;01mKeyError\u001b[39;00m(\u001b[38;5;124mf\u001b[39m\u001b[38;5;124m\"\u001b[39m\u001b[38;5;124mNone of [\u001b[39m\u001b[38;5;132;01m{\u001b[39;00mkey\u001b[38;5;132;01m}\u001b[39;00m\u001b[38;5;124m] are in the [\u001b[39m\u001b[38;5;132;01m{\u001b[39;00maxis_name\u001b[38;5;132;01m}\u001b[39;00m\u001b[38;5;124m]\u001b[39m\u001b[38;5;124m\"\u001b[39m)\n\u001b[1;32m   6178\u001b[0m not_found \u001b[38;5;241m=\u001b[39m \u001b[38;5;28mlist\u001b[39m(ensure_index(key)[missing_mask\u001b[38;5;241m.\u001b[39mnonzero()[\u001b[38;5;241m0\u001b[39m]]\u001b[38;5;241m.\u001b[39munique())\n\u001b[0;32m-> 6179\u001b[0m \u001b[38;5;28;01mraise\u001b[39;00m \u001b[38;5;167;01mKeyError\u001b[39;00m(\u001b[38;5;124mf\u001b[39m\u001b[38;5;124m\"\u001b[39m\u001b[38;5;132;01m{\u001b[39;00mnot_found\u001b[38;5;132;01m}\u001b[39;00m\u001b[38;5;124m not in index\u001b[39m\u001b[38;5;124m\"\u001b[39m)\n",
      "\u001b[0;31mKeyError\u001b[0m: \"['ALARM_DATE', 'CAUSE', 'REPORT_AC'] not in index\""
     ]
    }
   ],
   "source": [
    "X = calfires[[\"YEAR_\", \"ALARM_DATE\", \"CAUSE\", \"REPORT_AC\"]]\n",
    "y = calfires[[\"geometry\"]]\n",
    "\n",
    "train_X, test_X = train_test_split(X, test_size=.1, random_state=1)\n",
    "train_y, test_y = train_test_split(y, test_size=.1, random_state=1)\n",
    "\n",
    "test_svr = svm.SVR(kernel=\"poly\", C=100, gamma=\"auto\", degree=3, epsilon=0.1, coef0=1)\n",
    "test_svr.fit(X, y)"
   ]
  },
  {
   "cell_type": "markdown",
   "metadata": {},
   "source": [
    "## IT'S TIME TO GET SHAPELY"
   ]
  },
  {
   "cell_type": "code",
   "execution_count": 22,
   "metadata": {},
   "outputs": [
    {
     "name": "stdout",
     "output_type": "stream",
     "text": [
      "MULTIPOLYGON (((-57222.1922999993 98500.04329999909, -57231.62510000169 98506.23469999991, -57240.441300000995 98511.49469999969, -57246.09530000016 98509.89440000057, -57255.729499999434 98498.86549999937, -57260.95419999957 98494.28089999966, -57264.5458999984 98493.68170000054, -57265.971200000495 98496.54250000045, -57264.24469999969 98504.60789999925, -57261.2584999986 98519.37260000035, -57265.45969999954 98536.57239999995, -57284.275800000876 98557.5167999994, -57296.39860000089 98569.73159999959, -57298.811599999666 98573.63350000046, -57320.37739999965 98581.4048999995, -57333.664599999785 98585.96959999949, -57338.42720000073 98586.19849999994, -57355.02470000088 98579.51319999993, -57370.53119999915 98578.27999999933, -57376.664799999446 98577.67989999987, -57389.18910000101 98573.98489999957, -57399.31579999998 98573.56189999916, -57401.19610000029 98573.66819999926, -57420.78579999879 98572.16540000029, -57428.63190000132 98567.62719999999, -57431.82470000163 98566.96010000072, -57436.164400000125 98573.66110000014, -57433.7602000013 98577.85539999977, -57435.29630000144 98579.40340000018, -57441.42060000077 98587.40249999985, -57441.482400000095 98587.91540000029, -57445.86239999905 98601.30599999987, -57456.604899998754 98620.79690000042, -57470.329500000924 98638.62240000069, -57475.32840000093 98654.88690000027, -57484.36829999834 98680.01180000044, -57488.47899999842 98685.18329999968, -57493.27419999987 98690.06149999984, -57499.34349999949 98694.48289999925, -57513.34670000151 98701.52170000039, -57517.68450000137 98700.15460000001, -57525.53810000047 98701.80279999971, -57524.03700000048 98702.50960000046, -57529.00050000101 98703.07540000044, -57526.19159999862 98702.85080000013, -57527.19159999862 98710.42290000059, -57532.97679999843 98715.99750000052, -57534.909899998456 98717.87429999933, -57548.147900000215 98729.43579999916, -57553.01949999854 98736.87659999914, -57550.78819999844 98746.46639999934, -57536.77039999887 98749.82459999993, -57521.86180000007 98744.5401000008, -57517.00219999999 98740.55590000004, -57512.33339999989 98738.36180000007, -57498.50290000066 98740.92019999959, -57493.34079999849 98740.71639999934, -57493.259700000286 98740.89279999956, -57475.623500000685 98738.2912000008, -57458.98820000142 98736.89829999954, -57436.47329999879 98730.95529999956, -57424.075199998915 98735.33129999973, -57416.97599999979 98741.09520000033, -57415.374099999666 98741.70820000023, -57409.44299999997 98744.5175999999, -57404.02769999951 98745.21580000035, -57391.07649999857 98751.84259999916, -57392.1512000002 98753.94629999995, -57384.82550000027 98747.42940000072, -57378.98380000144 98744.73340000026, -57371.588599998504 98740.88990000077, -57365.20899999887 98732.0318, -57364.627700001 98728.94400000013, -57343.154399998486 98733.99269999936, -57326.175999999046 98731.81509999931, -57317.96169999987 98732.95969999954, -57304.661699999124 98732.33579999954, -57288.97560000047 98733.32579999976, -57274.46110000089 98730.8674999997, -57257.202700000256 98728.23169999942, -57238.77499999851 98727.67469999939, -57224.743400000036 98728.86260000058, -57214.46790000051 98728.78170000017, -57209.59180000052 98731.32840000093, -57195.38049999997 98738.50569999963, -57182.968899998814 98735.44730000012, -57171.93160000071 98727.95450000092, -57158.75710000098 98718.69519999996, -57153.88910000026 98721.11170000024, -57149.887299999595 98724.27009999938, -57147.04439999908 98738.32760000043, -57141.550000000745 98748.33269999921, -57134.403599999845 98750.48169999942, -57121.98250000179 98749.82699999958, -57118.65980000049 98753.51190000027, -57105.44830000028 98745.3797999993, -57095.25 98746.7343000006, -57085.49879999831 98751.68820000067, -57079.36439999938 98751.37539999932, -57076.645500000566 98751.77580000088, -57062.26049999893 98758.89619999938, -57060.40469999984 98758.42679999955, -57052.47230000049 98752.45560000092, -57048.9160999991 98729.12089999951, -57047.645599998534 98724.88230000064, -57038.49469999969 98705.08620000072, -57037.76639999822 98694.91679999977, -57033.561400000006 98675.08049999923, -57030.80070000142 98645.93759999983, -57033.109999999404 98633.39489999972, -57033.47300000116 98621.91009999998, -57034.08399999887 98601.89299999923, -57038.563599999994 98583.25359999947, -57043.59950000048 98563.97529999912, -57044.879000000656 98552.2918999996, -57045.555300001055 98537.52040000074, -57045.38190000132 98523.80519999936, -57054.759300000966 98520.42320000008, -57066.37029999867 98516.47910000011, -57080.29910000041 98506.09469999932, -57095.392400000244 98497.45130000077, -57096.27149999887 98497.40149999969, -57113.20069999993 98492.1063000001, -57122.35889999941 98486.83149999939, -57135.479499999434 98483.04710000008, -57144.21090000123 98478.57990000024, -57151.1416000016 98480.3331000004, -57174.75200000033 98488.64949999936, -57194.77499999851 98490.67080000043, -57202.237100001425 98491.1886, -57206.99020000175 98492.78690000065, -57213.822200000286 98494.11079999991, -57215.68219999969 98495.03680000082, -57220.762299999595 98496.89519999921, -57220.56549999863 98498.56609999947, -57217.77470000088 98503.83269999921, -57217.202100001276 98504.11240000091, -57217.03460000083 98505.22929999977, -57217.77470000088 98503.83269999921, -57220.6053000018 98502.4497999996, -57222.022900000215 98500.01610000059, -57222.32789999992 98501.20409999974, -57222.1922999993 98500.04329999909)), ((-56490.63819999993 97068.54729999974, -56411.66640000045 96654.00039999932, -56499.33139999956 96615.61470000073, -56662.101100001484 97012.17720000073, -56490.63819999993 97068.54729999974)), ((-57221.99689999968 98499.9151000008, -57220.52070000023 98498.94620000012, -57220.56549999863 98498.56609999947, -57220.81720000133 98498.09119999968, -57220.944299999624 98496.96169999987, -57221.26900000125 98497.08060000092, -57221.99689999968 98499.9151000008)), ((-57221.87200000137 98497.30120000057, -57221.26900000125 98497.08060000092, -57221.023699998856 98496.12529999949, -57221.299800001085 98492.40210000053, -57221.87200000137 98497.30120000057)), ((-57222.161400001496 98499.77830000035, -57221.87200000137 98497.30120000057, -57222.17280000076 98497.41119999997, -57222.44280000031 98499.29499999993, -57222.161400001496 98499.77830000035)), ((-57221.023699998856 98496.12529999949, -57220.99529999867 98496.50860000029, -57220.944299999624 98496.96169999987, -57220.762299999595 98496.89519999921, -57220.90670000017 98495.66939999908, -57221.023699998856 98496.12529999949)), ((-57222.1922999993 98500.04329999909, -57222.05820000172 98499.95529999956, -57222.161400001496 98499.77830000035, -57222.1922999993 98500.04329999909)), ((-57222.05820000172 98499.95529999956, -57222.022900000215 98500.01610000059, -57221.99689999968 98499.9151000008, -57222.05820000172 98499.95529999956)))\n",
      "<class 'shapely.geometry.multipolygon.MultiPolygon'>\n",
      "POLYGON ((-56499.33139999956 96615.61470000073, -57553.01949999854 98736.87659999914, -57550.78819999844 98746.46639999934, -57536.77039999887 98749.82459999993, -57392.1512000002 98753.94629999995, -57062.26049999893 98758.89619999938, -57060.40469999984 98758.42679999955, -57052.47230000049 98752.45560000092, -56490.63819999993 97068.54729999974, -56411.66640000045 96654.00039999932, -56499.33139999956 96615.61470000073))\n",
      "<shapely.coords.CoordinateSequence object at 0x7f771b0f4df0>\n",
      "-56499.33139999956\n",
      "96615.61470000073\n",
      "-57553.01949999854\n",
      "98736.87659999914\n",
      "-57550.78819999844\n",
      "98746.46639999934\n",
      "-57536.77039999887\n",
      "98749.82459999993\n",
      "-57392.1512000002\n",
      "98753.94629999995\n",
      "-57062.26049999893\n",
      "98758.89619999938\n",
      "-57060.40469999984\n",
      "98758.42679999955\n",
      "-57052.47230000049\n",
      "98752.45560000092\n",
      "-56490.63819999993\n",
      "97068.54729999974\n",
      "-56411.66640000045\n",
      "96654.00039999932\n",
      "-56499.33139999956\n",
      "96615.61470000073\n"
     ]
    }
   ],
   "source": [
    "shape = calfires.iloc[1][\"geometry\"]\n",
    "print(shape)\n",
    "print(type(shape))\n",
    "print(shape.convex_hull)\n",
    "print(shape.convex_hull.boundary.coords)\n",
    "for i in shape.convex_hull.boundary.coords:\n",
    "    print(i[0])\n",
    "    print(i[1])"
   ]
  }
 ],
 "metadata": {
  "kernelspec": {
   "display_name": ".venv",
   "language": "python",
   "name": "python3"
  },
  "language_info": {
   "codemirror_mode": {
    "name": "ipython",
    "version": 3
   },
   "file_extension": ".py",
   "mimetype": "text/x-python",
   "name": "python",
   "nbconvert_exporter": "python",
   "pygments_lexer": "ipython3",
   "version": "3.10.12"
  },
  "orig_nbformat": 4
 },
 "nbformat": 4,
 "nbformat_minor": 2
}
