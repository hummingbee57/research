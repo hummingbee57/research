version https://git-lfs.github.com/spec/v1
oid sha256:2fb9e1be7da60e800b566cd3ddfcb75ce26632960e0352e833daeb174b0a34e6
size 116579
