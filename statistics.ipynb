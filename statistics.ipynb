{
 "cells": [
  {
   "cell_type": "markdown",
   "metadata": {},
   "source": [
    "# Statistical Analysis"
   ]
  },
  {
   "cell_type": "code",
   "execution_count": 7,
   "metadata": {},
   "outputs": [],
   "source": [
    "import scipy.stats as stats\n",
    "import matplotlib.pyplot as plt\n",
    "import pandas as pd\n",
    "import numpy as np "
   ]
  },
  {
   "cell_type": "markdown",
   "metadata": {},
   "source": [
    "## Importing the data"
   ]
  },
  {
   "cell_type": "code",
   "execution_count": 8,
   "metadata": {},
   "outputs": [],
   "source": [
    "control_area = pd.read_csv(\"data/control_area.csv\")\n",
    "control_cent_x = pd.read_csv(\"data/control_cent_x.csv\")\n",
    "control_cent_y = pd.read_csv(\"data/control_cent_y.csv\")\n",
    "mlp_area = pd.read_csv(\"data/mlp_area.csv\")\n",
    "mlp_cent_x = pd.read_csv(\"data/mlp_cent_x.csv\")\n",
    "mlp_cent_y = pd.read_csv(\"data/mlp_cent_y.csv\")\n",
    "mlr_area = pd.read_csv(\"data/mlr_area.csv\")\n",
    "mlr_cent_x = pd.read_csv(\"data/mlr_cent_x.csv\")\n",
    "mlr_cent_y = pd.read_csv(\"data/mlr_cent_y.csv\")\n"
   ]
  },
  {
   "cell_type": "markdown",
   "metadata": {},
   "source": [
    "## Generating Scatterplots\n",
    "### Setting up the graphs"
   ]
  },
  {
   "cell_type": "code",
   "execution_count": 9,
   "metadata": {},
   "outputs": [
    {
     "data": {
      "text/plain": [
       "<matplotlib.legend.Legend at 0x7f89aa9518a0>"
      ]
     },
     "execution_count": 9,
     "metadata": {},
     "output_type": "execute_result"
    },
    {
     "data": {
      "image/png": "[encoded data removed]",
      "text/plain": [
       "<Figure size 720x432 with 1 Axes>"
      ]
     },
     "metadata": {
      "needs_background": "light"
     },
     "output_type": "display_data"
    }
   ],
   "source": [
    "axisFont = {\n",
    "    'family': 'serif',\n",
    "    'color':  'black',\n",
    "    'weight': 'normal',\n",
    "    'size': 12,\n",
    "}\n",
    "\n",
    "titleFont = {\n",
    "    'family': 'serif',\n",
    "    'color':  'black',\n",
    "    'weight': 'bold',\n",
    "    'size': 16,\n",
    "}\n",
    "\n",
    "plt.figure(figsize=(10, 6))\n",
    "\n",
    "plt.ylim(-.06, .02)\n",
    "plt.xlim(0, 26)\n",
    "\n",
    "plt.yticks(np.arange(-.06, .021, step = .02))\n",
    "plt.xticks(np.arange(0, 26, step = 1))\n",
    "\n",
    "plt.scatter(x=control_area[\"trial\"], y=control_area['r2_score_test'], s = 12, marker = 'o', c = '#0052cc', label = 'Control')\n",
    "plt.scatter(x=mlp_area['trial'], y=mlp_area['r2_score_test'], s = 12, marker = '^', c = '#29a329', label = 'Multi-Layer Perceptron')\n",
    "plt.scatter(x=mlr_area[\"trial\"], y=mlr_area['r2_score_test'], s = 12, marker = 's', c = '#ff8000', label = 'Multiple Linear Regression')\n",
    "\n",
    "plt.title('R-Squared Values for Testing Data on Regressions for Area', fontdict = titleFont, pad = 20)\n",
    "\n",
    "plt.xlabel('Trial', fontdict = axisFont)\n",
    "plt.ylabel('R-squared Score', fontdict = axisFont)\n",
    "\n",
    "plt.legend(loc = 0)\n",
    "\n"
   ]
  },
  {
   "cell_type": "markdown",
   "metadata": {},
   "source": [
    "## Statistical Tests"
   ]
  },
  {
   "cell_type": "code",
   "execution_count": 10,
   "metadata": {},
   "outputs": [],
   "source": [
    "p_values = {\n",
    "    'area': {\n",
    "        'mae_train': stats.f_oneway(control_area['mean_error_train'], mlp_area['mean_error_train'], mlr_area['mean_error_train'])[1],\n",
    "        'mae_test': stats.f_oneway(control_area['mean_error_test'], mlp_area['mean_error_test'], mlr_area['mean_error_test'])[1],\n",
    "        'r2_train': stats.f_oneway(control_area['r2_score_train'], mlp_area['r2_score_train'], mlr_area['r2_score_train'])[1],\n",
    "        'r2_test': stats.f_oneway(control_area['r2_score_test'], mlp_area['r2_score_test'], mlr_area['r2_score_test'])[1]\n",
    "    },\n",
    "    'x-coord': {\n",
    "        'mae_train': stats.f_oneway(control_cent_x['mean_error_train'], mlp_cent_x['mean_error_train'], mlr_cent_x['mean_error_train'])[1],\n",
    "        'mae_test': stats.f_oneway(control_cent_x['mean_error_test'], mlp_cent_x['mean_error_test'], mlr_cent_x['mean_error_test'])[1],\n",
    "        'r2_train': stats.f_oneway(control_cent_x['r2_score_train'], mlp_cent_x['r2_score_train'], mlr_cent_x['r2_score_train'])[1],\n",
    "        'r2_test': stats.f_oneway(control_cent_x['r2_score_test'], mlp_cent_x['r2_score_test'], mlr_cent_x['r2_score_test'])[1]\n",
    "    },\n",
    "    'y-coord': {\n",
    "        'mae_train': stats.f_oneway(control_cent_y['mean_error_train'], mlp_cent_y['mean_error_train'], mlr_cent_y['mean_error_train'])[1],\n",
    "        'mae_test': stats.f_oneway(control_cent_y['mean_error_test'], mlp_cent_y['mean_error_test'], mlr_cent_y['mean_error_test'])[1],\n",
    "        'r2_train': stats.f_oneway(control_cent_y['r2_score_train'], mlp_cent_y['r2_score_train'], mlr_cent_y['r2_score_train'])[1],\n",
    "        'r2_test': stats.f_oneway(control_cent_y['r2_score_test'], mlp_cent_y['r2_score_test'], mlr_cent_y['r2_score_test'])[1]\n",
    "    }\n",
    "}\n",
    "\n",
    "p_values_df = pd.DataFrame(p_values)\n",
    "p_values_df.to_csv(\"data/anova_p_values.csv\")"
   ]
  },
  {
   "cell_type": "code",
   "execution_count": 11,
   "metadata": {},
   "outputs": [],
   "source": [
    "f_scores = {\n",
    "    'area': {\n",
    "        'mae_train': stats.f_oneway(control_area['mean_error_train'], mlp_area['mean_error_train'], mlr_area['mean_error_train'])[0],\n",
    "        'mae_test': stats.f_oneway(control_area['mean_error_test'], mlp_area['mean_error_test'], mlr_area['mean_error_test'])[0],\n",
    "        'r2_train': stats.f_oneway(control_area['r2_score_train'], mlp_area['r2_score_train'], mlr_area['r2_score_train'])[0],\n",
    "        'r2_test': stats.f_oneway(control_area['r2_score_test'], mlp_area['r2_score_test'], mlr_area['r2_score_test'])[0]\n",
    "    },\n",
    "    'x-coord': {\n",
    "        'mae_train': stats.f_oneway(control_cent_x['mean_error_train'], mlp_cent_x['mean_error_train'], mlr_cent_x['mean_error_train'])[0],\n",
    "        'mae_test': stats.f_oneway(control_cent_x['mean_error_test'], mlp_cent_x['mean_error_test'], mlr_cent_x['mean_error_test'])[0],\n",
    "        'r2_train': stats.f_oneway(control_cent_x['r2_score_train'], mlp_cent_x['r2_score_train'], mlr_cent_x['r2_score_train'])[0],\n",
    "        'r2_test': stats.f_oneway(control_cent_x['r2_score_test'], mlp_cent_x['r2_score_test'], mlr_cent_x['r2_score_test'])[0]\n",
    "    },\n",
    "    'y-coord': {\n",
    "        'mae_train': stats.f_oneway(control_cent_y['mean_error_train'], mlp_cent_y['mean_error_train'], mlr_cent_y['mean_error_train'])[0],\n",
    "        'mae_test': stats.f_oneway(control_cent_y['mean_error_test'], mlp_cent_y['mean_error_test'], mlr_cent_y['mean_error_test'])[0],\n",
    "        'r2_train': stats.f_oneway(control_cent_y['r2_score_train'], mlp_cent_y['r2_score_train'], mlr_cent_y['r2_score_train'])[0],\n",
    "        'r2_test': stats.f_oneway(control_cent_y['r2_score_test'], mlp_cent_y['r2_score_test'], mlr_cent_y['r2_score_test'])[0]\n",
    "    }\n",
    "}\n",
    "\n",
    "f_scores = pd.DataFrame(f_scores)\n",
    "f_scores.to_csv('data/f_scores.csv')"
   ]
  },
  {
   "cell_type": "code",
   "execution_count": null,
   "metadata": {},
   "outputs": [],
   "source": []
  }
 ],
 "metadata": {
  "kernelspec": {
   "display_name": "Python 3",
   "language": "python",
   "name": "python3"
  },
  "language_info": {
   "codemirror_mode": {
    "name": "ipython",
    "version": 3
   },
   "file_extension": ".py",
   "mimetype": "text/x-python",
   "name": "python",
   "nbconvert_exporter": "python",
   "pygments_lexer": "ipython3",
   "version": "3.10.12"
  }
 },
 "nbformat": 4,
 "nbformat_minor": 2
}
