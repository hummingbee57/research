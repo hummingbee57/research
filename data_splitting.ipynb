{
 "cells": [
  {
   "cell_type": "markdown",
   "metadata": {},
   "source": [
    "# Data Splitting\n",
    "So i can test it and not wait 10 million years for each thing to run"
   ]
  },
  {
   "cell_type": "code",
   "execution_count": 1,
   "metadata": {},
   "outputs": [],
   "source": [
    "from sklearn.model_selection import RepeatedKFold\n",
    "from dataset_storing import cal_fire_temps\n",
    "import numpy as np\n",
    "\n",
    "fire_X = cal_fire_temps.loc[cal_fire_temps.index, [\"ALARM_DATE\", \"CAUSE\", \"YEAR_\", \"1_MONTHS_BEFORE\", \"2_MONTHS_BEFORE\", \"3_MONTHS_BEFORE\", \"4_MONTHS_BEFORE\", \"5_MONTHS_BEFORE\", \"6_MONTHS_BEFORE\", \"7_MONTHS_BEFORE\", \"8_MONTHS_BEFORE\", \"9_MONTHS_BEFORE\", \"10_MONTHS_BEFORE\", \"11_MONTHS_BEFORE\", \"12_MONTHS_BEFORE\"]]\n",
    "fire_y = cal_fire_temps.loc[cal_fire_temps.index, [\"geometry\"]]"
   ]
  },
  {
   "cell_type": "markdown",
   "metadata": {},
   "source": [
    "Flattening Month-Temp colums so i can use them to train models"
   ]
  },
  {
   "cell_type": "code",
   "execution_count": 2,
   "metadata": {},
   "outputs": [],
   "source": [
    "fire_X[\"ALARM_DATE\"] = fire_X[\"ALARM_DATE\"].astype(int)\n",
    "\n",
    "\n",
    "for i in fire_X.index:\n",
    "    for j in range(1, 13):\n",
    "        fire_X.loc[fire_X.index, \"{i}_MONTHS_BEFORE\"] = np.ndarray(fire_X.loc[fire_X.index, [f\"{i}_MONTHS_BEFORE\"]]).flatten()\n",
    "\n",
    "for i in fire_X.index:\n",
    "    print(type(i))\n",
    "    break\n"
   ]
  },
  {
   "cell_type": "markdown",
   "metadata": {},
   "source": [
    "K-fold Cross Validation"
   ]
  },
  {
   "cell_type": "code",
   "execution_count": 19,
   "metadata": {},
   "outputs": [],
   "source": [
    "k_fold = RepeatedKFold(n_splits=5, n_repeats=5, random_state=1)\n",
    "\n",
    "split_indices = k_fold.split(fire_X, fire_y)"
   ]
  }
 ],
 "metadata": {
  "kernelspec": {
   "display_name": "Python 3",
   "language": "python",
   "name": "python3"
  },
  "language_info": {
   "codemirror_mode": {
    "name": "ipython",
    "version": 3
   },
   "file_extension": ".py",
   "mimetype": "text/x-python",
   "name": "python",
   "nbconvert_exporter": "python",
   "pygments_lexer": "ipython3",
   "version": "3.10.12"
  }
 },
 "nbformat": 4,
 "nbformat_minor": 2
}
