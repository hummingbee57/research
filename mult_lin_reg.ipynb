{
 "cells": [
  {
   "cell_type": "markdown",
   "metadata": {},
   "source": [
    "# Multiple Linear Regression\n",
    "God i hope this works"
   ]
  },
  {
   "cell_type": "code",
   "execution_count": 6,
   "metadata": {},
   "outputs": [],
   "source": [
    "from sklearn.linear_model import LinearRegression\n",
    "from sklearn.ensemble import HistGradientBoostingRegressor\n",
    "from sklearn.metrics import r2_score\n",
    "from dataset_storing import cal_fire_temps, k_fold, fire_X, fire_centroid_x, fire_centroid_y, fire_area\n",
    "import numpy as np\n",
    "from sklearn.impute import SimpleImputer"
   ]
  },
  {
   "cell_type": "code",
   "execution_count": 7,
   "metadata": {},
   "outputs": [
    {
     "data": {
      "text/html": [
       "<div>\n",
       "<style scoped>\n",
       "    .dataframe tbody tr th:only-of-type {\n",
       "        vertical-align: middle;\n",
       "    }\n",
       "\n",
       "    .dataframe tbody tr th {\n",
       "        vertical-align: top;\n",
       "    }\n",
       "\n",
       "    .dataframe thead th {\n",
       "        text-align: right;\n",
       "    }\n",
       "</style>\n",
       "<table border=\"1\" class=\"dataframe\">\n",
       "  <thead>\n",
       "    <tr style=\"text-align: right;\">\n",
       "      <th></th>\n",
       "      <th>10_MONTHS_BEFORE</th>\n",
       "      <th>11_MONTHS_BEFORE</th>\n",
       "      <th>12_MONTHS_BEFORE</th>\n",
       "      <th>1_MONTHS_BEFORE</th>\n",
       "      <th>2_MONTHS_BEFORE</th>\n",
       "      <th>3_MONTHS_BEFORE</th>\n",
       "      <th>4_MONTHS_BEFORE</th>\n",
       "      <th>5_MONTHS_BEFORE</th>\n",
       "      <th>6_MONTHS_BEFORE</th>\n",
       "      <th>7_MONTHS_BEFORE</th>\n",
       "      <th>...</th>\n",
       "      <th>9_MONTHS_BEFORE</th>\n",
       "      <th>ALARM_DATE</th>\n",
       "      <th>CAUSE</th>\n",
       "      <th>GIS_ACRES</th>\n",
       "      <th>Shape_Area</th>\n",
       "      <th>Shape_Length</th>\n",
       "      <th>YEAR_</th>\n",
       "      <th>centroid_x</th>\n",
       "      <th>centroid_y</th>\n",
       "      <th>geometry</th>\n",
       "    </tr>\n",
       "  </thead>\n",
       "  <tbody>\n",
       "    <tr>\n",
       "      <th>489</th>\n",
       "      <td>[20.307, 20.325, 26.785, 20.325, 25.265, 20.30...</td>\n",
       "      <td>[21.683000000000003, 20.601, 26.483, 20.601, 2...</td>\n",
       "      <td>[19.936, 18.781, 21.254, 18.781, 20.896, 19.93...</td>\n",
       "      <td>[17.88, 15.861999999999998, 15.863, 15.8619999...</td>\n",
       "      <td>[17.609, 12.479, 11.754, 12.479, 14.687, 17.60...</td>\n",
       "      <td>[14.373, 9.202, 7.236000000000001, 9.202, 10.0...</td>\n",
       "      <td>[12.751, 8.165, 5.541, 8.165, 8.391, 12.751, 8...</td>\n",
       "      <td>[13.76, 10.718, 9.472, 10.718, 10.897, 13.76, ...</td>\n",
       "      <td>[15.414, 14.002, 14.239, 14.002, 14.809, 15.41...</td>\n",
       "      <td>[14.753, 14.117, 15.045, 14.117, 14.889, 14.75...</td>\n",
       "      <td>...</td>\n",
       "      <td>[17.834, 18.829, 23.84800000000001, 18.829, 21...</td>\n",
       "      <td>2007-10-21</td>\n",
       "      <td>14.0</td>\n",
       "      <td>25.736713</td>\n",
       "      <td>104152.781054</td>\n",
       "      <td>1902.439051</td>\n",
       "      <td>2007</td>\n",
       "      <td>138213.432525</td>\n",
       "      <td>-402730.00539</td>\n",
       "      <td>MULTIPOLYGON (((138036.906 -402646.363, 138086...</td>\n",
       "    </tr>\n",
       "  </tbody>\n",
       "</table>\n",
       "<p>1 rows × 21 columns</p>\n",
       "</div>"
      ],
      "text/plain": [
       "                                      10_MONTHS_BEFORE  \\\n",
       "489  [20.307, 20.325, 26.785, 20.325, 25.265, 20.30...   \n",
       "\n",
       "                                      11_MONTHS_BEFORE  \\\n",
       "489  [21.683000000000003, 20.601, 26.483, 20.601, 2...   \n",
       "\n",
       "                                      12_MONTHS_BEFORE  \\\n",
       "489  [19.936, 18.781, 21.254, 18.781, 20.896, 19.93...   \n",
       "\n",
       "                                       1_MONTHS_BEFORE  \\\n",
       "489  [17.88, 15.861999999999998, 15.863, 15.8619999...   \n",
       "\n",
       "                                       2_MONTHS_BEFORE  \\\n",
       "489  [17.609, 12.479, 11.754, 12.479, 14.687, 17.60...   \n",
       "\n",
       "                                       3_MONTHS_BEFORE  \\\n",
       "489  [14.373, 9.202, 7.236000000000001, 9.202, 10.0...   \n",
       "\n",
       "                                       4_MONTHS_BEFORE  \\\n",
       "489  [12.751, 8.165, 5.541, 8.165, 8.391, 12.751, 8...   \n",
       "\n",
       "                                       5_MONTHS_BEFORE  \\\n",
       "489  [13.76, 10.718, 9.472, 10.718, 10.897, 13.76, ...   \n",
       "\n",
       "                                       6_MONTHS_BEFORE  \\\n",
       "489  [15.414, 14.002, 14.239, 14.002, 14.809, 15.41...   \n",
       "\n",
       "                                       7_MONTHS_BEFORE  ...  \\\n",
       "489  [14.753, 14.117, 15.045, 14.117, 14.889, 14.75...  ...   \n",
       "\n",
       "                                       9_MONTHS_BEFORE ALARM_DATE CAUSE  \\\n",
       "489  [17.834, 18.829, 23.84800000000001, 18.829, 21... 2007-10-21  14.0   \n",
       "\n",
       "     GIS_ACRES     Shape_Area  Shape_Length  YEAR_     centroid_x  \\\n",
       "489  25.736713  104152.781054   1902.439051   2007  138213.432525   \n",
       "\n",
       "       centroid_y                                           geometry  \n",
       "489 -402730.00539  MULTIPOLYGON (((138036.906 -402646.363, 138086...  \n",
       "\n",
       "[1 rows x 21 columns]"
      ]
     },
     "execution_count": 7,
     "metadata": {},
     "output_type": "execute_result"
    }
   ],
   "source": [
    "cal_fire_temps.head(1)"
   ]
  },
  {
   "cell_type": "markdown",
   "metadata": {},
   "source": [
    "Predicting Area"
   ]
  },
  {
   "cell_type": "code",
   "execution_count": 11,
   "metadata": {},
   "outputs": [
    {
     "name": "stdout",
     "output_type": "stream",
     "text": [
      "Trial 0:\n"
     ]
    },
    {
     "ename": "AttributeError",
     "evalue": "'LinearRegression' object has no attribute 'summary'",
     "output_type": "error",
     "traceback": [
      "\u001b[0;31m---------------------------------------------------------------------------\u001b[0m",
      "\u001b[0;31mAttributeError\u001b[0m                            Traceback (most recent call last)",
      "Cell \u001b[0;32mIn[11], line 17\u001b[0m\n\u001b[1;32m     15\u001b[0m \u001b[38;5;28mprint\u001b[39m(\u001b[38;5;124mf\u001b[39m\u001b[38;5;124m\"\u001b[39m\u001b[38;5;124mTrial \u001b[39m\u001b[38;5;132;01m{\u001b[39;00mi\u001b[38;5;132;01m}\u001b[39;00m\u001b[38;5;124m:\u001b[39m\u001b[38;5;124m\"\u001b[39m)\n\u001b[1;32m     16\u001b[0m y_pred \u001b[38;5;241m=\u001b[39m model\u001b[38;5;241m.\u001b[39mpredict(test_X)\n\u001b[0;32m---> 17\u001b[0m \u001b[38;5;28mprint\u001b[39m(\u001b[43mmodel\u001b[49m\u001b[38;5;241;43m.\u001b[39;49m\u001b[43msummary\u001b[49m)\n\u001b[1;32m     18\u001b[0m \u001b[38;5;28mprint\u001b[39m(r2_score(test_y, y_pred))\n",
      "\u001b[0;31mAttributeError\u001b[0m: 'LinearRegression' object has no attribute 'summary'"
     ]
    }
   ],
   "source": [
    "split_indices = k_fold.split(fire_X, fire_centroid_x)\n",
    "imputer = SimpleImputer()\n",
    "fire_X = imputer.fit_transform(fire_X)\n",
    "\n",
    "for i, (train, test) in enumerate(split_indices):\n",
    "    # flattening the lists\n",
    "    train_X = fire_X[train]\n",
    "    train_y = fire_area.iloc[train]\n",
    "    test_X = fire_X[test]\n",
    "    test_y = fire_area.iloc[test]\n",
    "\n",
    "    model = LinearRegression()\n",
    "    model.fit(train_X, train_y)\n",
    "    \n",
    "    print(f\"Trial {i}:\")\n",
    "    y_pred = model.predict(test_X)\n",
    "    print()\n",
    "    print(r2_score(test_y, y_pred))\n",
    "\n",
    "    \n"
   ]
  }
 ],
 "metadata": {
  "kernelspec": {
   "display_name": "Python 3",
   "language": "python",
   "name": "python3"
  },
  "language_info": {
   "codemirror_mode": {
    "name": "ipython",
    "version": 3
   },
   "file_extension": ".py",
   "mimetype": "text/x-python",
   "name": "python",
   "nbconvert_exporter": "python",
   "pygments_lexer": "ipython3",
   "version": "3.10.12"
  }
 },
 "nbformat": 4,
 "nbformat_minor": 2
}
