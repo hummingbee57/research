{
 "cells": [
  {
   "cell_type": "markdown",
   "metadata": {},
   "source": [
    "# Multiple Linear Regression\n",
    "God i hope this works"
   ]
  },
  {
   "cell_type": "code",
   "execution_count": 6,
   "metadata": {},
   "outputs": [],
   "source": [
    "from sklearn.linear_model import LinearRegression\n",
    "from sklearn.metrics import r2_score\n",
    "from dataset_storing import cal_fire_temps\n",
    "from data_splitting import k_fold, fire_X, fire_y\n",
    "import spreg\n"
   ]
  },
  {
   "cell_type": "code",
   "execution_count": 2,
   "metadata": {},
   "outputs": [
    {
     "data": {
      "text/html": [
       "<div>\n",
       "<style scoped>\n",
       "    .dataframe tbody tr th:only-of-type {\n",
       "        vertical-align: middle;\n",
       "    }\n",
       "\n",
       "    .dataframe tbody tr th {\n",
       "        vertical-align: top;\n",
       "    }\n",
       "\n",
       "    .dataframe thead th {\n",
       "        text-align: right;\n",
       "    }\n",
       "</style>\n",
       "<table border=\"1\" class=\"dataframe\">\n",
       "  <thead>\n",
       "    <tr style=\"text-align: right;\">\n",
       "      <th></th>\n",
       "      <th>10_MONTHS_BEFORE</th>\n",
       "      <th>11_MONTHS_BEFORE</th>\n",
       "      <th>12_MONTHS_BEFORE</th>\n",
       "      <th>1_MONTHS_BEFORE</th>\n",
       "      <th>2_MONTHS_BEFORE</th>\n",
       "      <th>3_MONTHS_BEFORE</th>\n",
       "      <th>4_MONTHS_BEFORE</th>\n",
       "      <th>5_MONTHS_BEFORE</th>\n",
       "      <th>6_MONTHS_BEFORE</th>\n",
       "      <th>7_MONTHS_BEFORE</th>\n",
       "      <th>8_MONTHS_BEFORE</th>\n",
       "      <th>9_MONTHS_BEFORE</th>\n",
       "      <th>ALARM_DATE</th>\n",
       "      <th>CAUSE</th>\n",
       "      <th>GIS_ACRES</th>\n",
       "      <th>Shape_Area</th>\n",
       "      <th>Shape_Length</th>\n",
       "      <th>YEAR_</th>\n",
       "      <th>geometry</th>\n",
       "    </tr>\n",
       "  </thead>\n",
       "  <tbody>\n",
       "    <tr>\n",
       "      <th>489</th>\n",
       "      <td>[20.307, 20.325, 26.785, 20.325, 25.265, 20.30...</td>\n",
       "      <td>[21.683000000000003, 20.601, 26.483, 20.601, 2...</td>\n",
       "      <td>[19.936, 18.781, 21.254, 18.781, 20.896, 19.93...</td>\n",
       "      <td>[17.88, 15.861999999999998, 15.863, 15.8619999...</td>\n",
       "      <td>[17.609, 12.479, 11.754, 12.479, 14.687, 17.60...</td>\n",
       "      <td>[14.373, 9.202, 7.236000000000001, 9.202, 10.0...</td>\n",
       "      <td>[12.751, 8.165, 5.541, 8.165, 8.391, 12.751, 8...</td>\n",
       "      <td>[13.76, 10.718, 9.472, 10.718, 10.897, 13.76, ...</td>\n",
       "      <td>[15.414, 14.002, 14.239, 14.002, 14.809, 15.41...</td>\n",
       "      <td>[14.753, 14.117, 15.045, 14.117, 14.889, 14.75...</td>\n",
       "      <td>[16.518, 16.666, 20.099, 16.666, 18.107, 16.51...</td>\n",
       "      <td>[17.834, 18.829, 23.84800000000001, 18.829, 21...</td>\n",
       "      <td>2007-10-21</td>\n",
       "      <td>14.0</td>\n",
       "      <td>25.736713</td>\n",
       "      <td>104152.781054</td>\n",
       "      <td>1902.439051</td>\n",
       "      <td>2007</td>\n",
       "      <td>MULTIPOLYGON (((138036.906 -402646.363, 138086...</td>\n",
       "    </tr>\n",
       "  </tbody>\n",
       "</table>\n",
       "</div>"
      ],
      "text/plain": [
       "                                      10_MONTHS_BEFORE  \\\n",
       "489  [20.307, 20.325, 26.785, 20.325, 25.265, 20.30...   \n",
       "\n",
       "                                      11_MONTHS_BEFORE  \\\n",
       "489  [21.683000000000003, 20.601, 26.483, 20.601, 2...   \n",
       "\n",
       "                                      12_MONTHS_BEFORE  \\\n",
       "489  [19.936, 18.781, 21.254, 18.781, 20.896, 19.93...   \n",
       "\n",
       "                                       1_MONTHS_BEFORE  \\\n",
       "489  [17.88, 15.861999999999998, 15.863, 15.8619999...   \n",
       "\n",
       "                                       2_MONTHS_BEFORE  \\\n",
       "489  [17.609, 12.479, 11.754, 12.479, 14.687, 17.60...   \n",
       "\n",
       "                                       3_MONTHS_BEFORE  \\\n",
       "489  [14.373, 9.202, 7.236000000000001, 9.202, 10.0...   \n",
       "\n",
       "                                       4_MONTHS_BEFORE  \\\n",
       "489  [12.751, 8.165, 5.541, 8.165, 8.391, 12.751, 8...   \n",
       "\n",
       "                                       5_MONTHS_BEFORE  \\\n",
       "489  [13.76, 10.718, 9.472, 10.718, 10.897, 13.76, ...   \n",
       "\n",
       "                                       6_MONTHS_BEFORE  \\\n",
       "489  [15.414, 14.002, 14.239, 14.002, 14.809, 15.41...   \n",
       "\n",
       "                                       7_MONTHS_BEFORE  \\\n",
       "489  [14.753, 14.117, 15.045, 14.117, 14.889, 14.75...   \n",
       "\n",
       "                                       8_MONTHS_BEFORE  \\\n",
       "489  [16.518, 16.666, 20.099, 16.666, 18.107, 16.51...   \n",
       "\n",
       "                                       9_MONTHS_BEFORE ALARM_DATE  CAUSE  \\\n",
       "489  [17.834, 18.829, 23.84800000000001, 18.829, 21... 2007-10-21   14.0   \n",
       "\n",
       "     GIS_ACRES     Shape_Area  Shape_Length YEAR_  \\\n",
       "489  25.736713  104152.781054   1902.439051  2007   \n",
       "\n",
       "                                              geometry  \n",
       "489  MULTIPOLYGON (((138036.906 -402646.363, 138086...  "
      ]
     },
     "execution_count": 2,
     "metadata": {},
     "output_type": "execute_result"
    }
   ],
   "source": [
    "cal_fire_temps.head(1)"
   ]
  },
  {
   "cell_type": "markdown",
   "metadata": {},
   "source": [
    "Separating inputs (`fire_X`) and outputs (`fire_x`)"
   ]
  },
  {
   "cell_type": "code",
   "execution_count": 3,
   "metadata": {},
   "outputs": [
    {
     "name": "stderr",
     "output_type": "stream",
     "text": [
      "\n",
      "KeyboardInterrupt\n",
      "\n"
     ]
    }
   ],
   "source": [
    "import numpy as np\n",
    "\n",
    "split_indices = k_fold.split(fire_X, fire_y)\n",
    "\n",
    "for i, (train, test) in enumerate(split_indices):\n",
    "    # flattening the lists\n",
    "    train_X = np.ndarray(shape = fire_X.iloc[train].shape, buffer = np.array(fire_X.iloc[train]))\n",
    "    train_y = fire_y.iloc[train]\n",
    "    test_X = np.ndarray(shape = fire_X.iloc[test].shape, buffer = np.array(fire_X.iloc[test]))\n",
    "    test_y = fire_y.iloc[test]\n",
    "\n",
    "    model = LinearRegression()\n",
    "    model.fit(train_X, train_y)\n",
    "\n",
    "    print(r2_score(train_y, model.predict(train_X)))\n",
    "    print(r2_score(test_y, model.predict(test_y)))\n"
   ]
  },
  {
   "cell_type": "markdown",
   "metadata": {},
   "source": [
    "PySal spreg"
   ]
  },
  {
   "cell_type": "code",
   "execution_count": 13,
   "metadata": {},
   "outputs": [
    {
     "ename": "TypeError",
     "evalue": "unsupported operand type(s) for +: 'MultiPolygon' and 'MultiPolygon'",
     "output_type": "error",
     "traceback": [
      "\u001b[0;31m---------------------------------------------------------------------------\u001b[0m",
      "\u001b[0;31mTypeError\u001b[0m                                 Traceback (most recent call last)",
      "Cell \u001b[0;32mIn[13], line 8\u001b[0m\n\u001b[1;32m      5\u001b[0m test_X \u001b[38;5;241m=\u001b[39m fire_X\u001b[38;5;241m.\u001b[39miloc[test]\u001b[38;5;241m.\u001b[39mto_numpy()\n\u001b[1;32m      6\u001b[0m test_y \u001b[38;5;241m=\u001b[39m fire_y\u001b[38;5;241m.\u001b[39miloc[test]\u001b[38;5;241m.\u001b[39mto_numpy()\n\u001b[0;32m----> 8\u001b[0m model \u001b[38;5;241m=\u001b[39m \u001b[43mspreg\u001b[49m\u001b[38;5;241;43m.\u001b[39;49m\u001b[43mOLS\u001b[49m\u001b[43m(\u001b[49m\u001b[43my\u001b[49m\u001b[38;5;241;43m=\u001b[39;49m\u001b[43mtrain_y\u001b[49m\u001b[43m,\u001b[49m\u001b[43m \u001b[49m\u001b[43mx\u001b[49m\u001b[38;5;241;43m=\u001b[39;49m\u001b[43mtrain_X\u001b[49m\u001b[43m)\u001b[49m\n\u001b[1;32m      9\u001b[0m results \u001b[38;5;241m=\u001b[39m \u001b[38;5;28mopen\u001b[39m(\u001b[38;5;124mf\u001b[39m\u001b[38;5;124m\"\u001b[39m\u001b[38;5;124mmult_lin_reg/\u001b[39m\u001b[38;5;132;01m{\u001b[39;00mi\u001b[38;5;132;01m}\u001b[39;00m\u001b[38;5;124m.txt\u001b[39m\u001b[38;5;124m\"\u001b[39m, \u001b[38;5;124m\"\u001b[39m\u001b[38;5;124mw\u001b[39m\u001b[38;5;124m\"\u001b[39m)\n\u001b[1;32m     11\u001b[0m results\u001b[38;5;241m.\u001b[39mwrite(model\u001b[38;5;241m.\u001b[39msummary)\n",
      "File \u001b[0;32m~/.local/lib/python3.10/site-packages/spreg/ols.py:451\u001b[0m, in \u001b[0;36mOLS.__init__\u001b[0;34m(self, y, x, w, robust, gwk, slx_lags, sig2n_k, nonspat_diag, spat_diag, moran, white_test, vm, name_y, name_x, name_w, name_gwk, name_ds, latex)\u001b[0m\n\u001b[1;32m    429\u001b[0m \u001b[38;5;28;01mdef\u001b[39;00m \u001b[38;5;21m__init__\u001b[39m(\n\u001b[1;32m    430\u001b[0m     \u001b[38;5;28mself\u001b[39m,\n\u001b[1;32m    431\u001b[0m     y,\n\u001b[0;32m   (...)\u001b[0m\n\u001b[1;32m    448\u001b[0m     latex\u001b[38;5;241m=\u001b[39m\u001b[38;5;28;01mFalse\u001b[39;00m,\n\u001b[1;32m    449\u001b[0m ):\n\u001b[0;32m--> 451\u001b[0m     n \u001b[38;5;241m=\u001b[39m \u001b[43mUSER\u001b[49m\u001b[38;5;241;43m.\u001b[39;49m\u001b[43mcheck_arrays\u001b[49m\u001b[43m(\u001b[49m\u001b[43my\u001b[49m\u001b[43m,\u001b[49m\u001b[43m \u001b[49m\u001b[43mx\u001b[49m\u001b[43m)\u001b[49m\n\u001b[1;32m    452\u001b[0m     y \u001b[38;5;241m=\u001b[39m USER\u001b[38;5;241m.\u001b[39mcheck_y(y, n)\n\u001b[1;32m    453\u001b[0m     USER\u001b[38;5;241m.\u001b[39mcheck_robust(robust, gwk)\n",
      "File \u001b[0;32m~/.local/lib/python3.10/site-packages/spreg/user_output.py:373\u001b[0m, in \u001b[0;36mcheck_arrays\u001b[0;34m(*arrays)\u001b[0m\n\u001b[1;32m    371\u001b[0m \u001b[38;5;28;01mif\u001b[39;00m shape[\u001b[38;5;241m0\u001b[39m] \u001b[38;5;241m<\u001b[39m shape[\u001b[38;5;241m1\u001b[39m]:\n\u001b[1;32m    372\u001b[0m     \u001b[38;5;28;01mraise\u001b[39;00m \u001b[38;5;167;01mException\u001b[39;00m(\u001b[38;5;124m\"\u001b[39m\u001b[38;5;124mone or more input arrays have more columns than rows\u001b[39m\u001b[38;5;124m\"\u001b[39m)\n\u001b[0;32m--> 373\u001b[0m \u001b[38;5;28;01mif\u001b[39;00m \u001b[38;5;129;01mnot\u001b[39;00m \u001b[43mspu\u001b[49m\u001b[38;5;241;43m.\u001b[39;49m\u001b[43mspisfinite\u001b[49m\u001b[43m(\u001b[49m\u001b[43mi\u001b[49m\u001b[43m)\u001b[49m:\n\u001b[1;32m    374\u001b[0m     \u001b[38;5;28;01mraise\u001b[39;00m \u001b[38;5;167;01mException\u001b[39;00m(\u001b[38;5;124m\"\u001b[39m\u001b[38;5;124mone or more input arrays have missing/NaN values\u001b[39m\u001b[38;5;124m\"\u001b[39m)\n\u001b[1;32m    375\u001b[0m rows\u001b[38;5;241m.\u001b[39mappend(shape[\u001b[38;5;241m0\u001b[39m])\n",
      "File \u001b[0;32m~/.local/lib/python3.10/site-packages/spreg/sputils.py:272\u001b[0m, in \u001b[0;36mspisfinite\u001b[0;34m(a)\u001b[0m\n\u001b[1;32m    258\u001b[0m \u001b[38;5;28;01mdef\u001b[39;00m \u001b[38;5;21mspisfinite\u001b[39m(a):\n\u001b[1;32m    259\u001b[0m     \u001b[38;5;124;03m\"\"\"\u001b[39;00m\n\u001b[1;32m    260\u001b[0m \u001b[38;5;124;03m    Determine whether an array has nan or inf values\u001b[39;00m\n\u001b[1;32m    261\u001b[0m \n\u001b[0;32m   (...)\u001b[0m\n\u001b[1;32m    270\u001b[0m \u001b[38;5;124;03m            denoting whether or not the array contains any NaN or inf\u001b[39;00m\n\u001b[1;32m    271\u001b[0m \u001b[38;5;124;03m    \"\"\"\u001b[39;00m\n\u001b[0;32m--> 272\u001b[0m     \u001b[38;5;28;01mreturn\u001b[39;00m np\u001b[38;5;241m.\u001b[39misfinite(\u001b[43ma\u001b[49m\u001b[38;5;241;43m.\u001b[39;49m\u001b[43msum\u001b[49m\u001b[43m(\u001b[49m\u001b[43m)\u001b[49m)\n",
      "File \u001b[0;32m~/.local/lib/python3.10/site-packages/numpy/core/_methods.py:49\u001b[0m, in \u001b[0;36m_sum\u001b[0;34m(a, axis, dtype, out, keepdims, initial, where)\u001b[0m\n\u001b[1;32m     47\u001b[0m \u001b[38;5;28;01mdef\u001b[39;00m \u001b[38;5;21m_sum\u001b[39m(a, axis\u001b[38;5;241m=\u001b[39m\u001b[38;5;28;01mNone\u001b[39;00m, dtype\u001b[38;5;241m=\u001b[39m\u001b[38;5;28;01mNone\u001b[39;00m, out\u001b[38;5;241m=\u001b[39m\u001b[38;5;28;01mNone\u001b[39;00m, keepdims\u001b[38;5;241m=\u001b[39m\u001b[38;5;28;01mFalse\u001b[39;00m,\n\u001b[1;32m     48\u001b[0m          initial\u001b[38;5;241m=\u001b[39m_NoValue, where\u001b[38;5;241m=\u001b[39m\u001b[38;5;28;01mTrue\u001b[39;00m):\n\u001b[0;32m---> 49\u001b[0m     \u001b[38;5;28;01mreturn\u001b[39;00m \u001b[43mumr_sum\u001b[49m\u001b[43m(\u001b[49m\u001b[43ma\u001b[49m\u001b[43m,\u001b[49m\u001b[43m \u001b[49m\u001b[43maxis\u001b[49m\u001b[43m,\u001b[49m\u001b[43m \u001b[49m\u001b[43mdtype\u001b[49m\u001b[43m,\u001b[49m\u001b[43m \u001b[49m\u001b[43mout\u001b[49m\u001b[43m,\u001b[49m\u001b[43m \u001b[49m\u001b[43mkeepdims\u001b[49m\u001b[43m,\u001b[49m\u001b[43m \u001b[49m\u001b[43minitial\u001b[49m\u001b[43m,\u001b[49m\u001b[43m \u001b[49m\u001b[43mwhere\u001b[49m\u001b[43m)\u001b[49m\n",
      "\u001b[0;31mTypeError\u001b[0m: unsupported operand type(s) for +: 'MultiPolygon' and 'MultiPolygon'"
     ]
    }
   ],
   "source": [
    "for i, (train, test) in enumerate(split_indices):\n",
    "    # flattening the lists\n",
    "    train_X = fire_X.iloc[train].to_numpy()\n",
    "    train_y = fire_y.iloc[train].to_numpy()\n",
    "    test_X = fire_X.iloc[test].to_numpy()\n",
    "    test_y = fire_y.iloc[test].to_numpy()\n",
    "\n",
    "    model = spreg.OLS(y=train_y, x=train_X)\n",
    "    results = open(f\"mult_lin_reg/{i}.txt\", \"w\")\n",
    "\n",
    "    results.write(model.summary)\n",
    "    "
   ]
  },
  {
   "cell_type": "markdown",
   "metadata": {},
   "source": [
    "Training the model"
   ]
  },
  {
   "cell_type": "code",
   "execution_count": null,
   "metadata": {},
   "outputs": [],
   "source": [
    "for i, (train, test) in enumerate(split_indices):\n",
    "    train_X = fire_X.iloc[train]\n",
    "    train_y = fire_y.iloc[train]\n",
    "    test_X = fire_X.iloc[test]\n",
    "    test_y = fire_y.iloc[test]\n",
    "\n",
    "    model = LinearRegression()\n",
    "    model.fit(train_X, train_y)\n",
    "\n",
    "    print(r2_score(train_y, model.predict(train_X)))\n",
    "    print(r2_score(test_y, model.predict(test_y)))\n"
   ]
  },
  {
   "cell_type": "code",
   "execution_count": 14,
   "metadata": {},
   "outputs": [
    {
     "ename": "TypeError",
     "evalue": "unsupported operand type(s) for +: 'MultiPolygon' and 'MultiPolygon'",
     "output_type": "error",
     "traceback": [
      "\u001b[0;31m---------------------------------------------------------------------------\u001b[0m",
      "\u001b[0;31mTypeError\u001b[0m                                 Traceback (most recent call last)",
      "Cell \u001b[0;32mIn[14], line 7\u001b[0m\n\u001b[1;32m      4\u001b[0m test_X \u001b[38;5;241m=\u001b[39m fire_X\u001b[38;5;241m.\u001b[39miloc[test]\u001b[38;5;241m.\u001b[39mvalues\n\u001b[1;32m      5\u001b[0m test_y \u001b[38;5;241m=\u001b[39m fire_y\u001b[38;5;241m.\u001b[39miloc[test]\u001b[38;5;241m.\u001b[39mvalues\n\u001b[0;32m----> 7\u001b[0m model \u001b[38;5;241m=\u001b[39m \u001b[43mspreg\u001b[49m\u001b[38;5;241;43m.\u001b[39;49m\u001b[43mOLS\u001b[49m\u001b[43m(\u001b[49m\u001b[43my\u001b[49m\u001b[38;5;241;43m=\u001b[39;49m\u001b[43mtrain_y\u001b[49m\u001b[43m,\u001b[49m\u001b[43m \u001b[49m\u001b[43mx\u001b[49m\u001b[38;5;241;43m=\u001b[39;49m\u001b[43mtrain_X\u001b[49m\u001b[43m)\u001b[49m\n\u001b[1;32m      8\u001b[0m results \u001b[38;5;241m=\u001b[39m \u001b[38;5;28mopen\u001b[39m(\u001b[38;5;124mf\u001b[39m\u001b[38;5;124m\"\u001b[39m\u001b[38;5;124mmult_lin_reg/\u001b[39m\u001b[38;5;132;01m{\u001b[39;00mi\u001b[38;5;132;01m}\u001b[39;00m\u001b[38;5;124m.txt\u001b[39m\u001b[38;5;124m\"\u001b[39m, \u001b[38;5;124m\"\u001b[39m\u001b[38;5;124mw\u001b[39m\u001b[38;5;124m\"\u001b[39m)\n\u001b[1;32m     10\u001b[0m results\u001b[38;5;241m.\u001b[39mwrite(model\u001b[38;5;241m.\u001b[39msummary())\n",
      "File \u001b[0;32m~/.local/lib/python3.10/site-packages/spreg/ols.py:451\u001b[0m, in \u001b[0;36mOLS.__init__\u001b[0;34m(self, y, x, w, robust, gwk, slx_lags, sig2n_k, nonspat_diag, spat_diag, moran, white_test, vm, name_y, name_x, name_w, name_gwk, name_ds, latex)\u001b[0m\n\u001b[1;32m    429\u001b[0m \u001b[38;5;28;01mdef\u001b[39;00m \u001b[38;5;21m__init__\u001b[39m(\n\u001b[1;32m    430\u001b[0m     \u001b[38;5;28mself\u001b[39m,\n\u001b[1;32m    431\u001b[0m     y,\n\u001b[0;32m   (...)\u001b[0m\n\u001b[1;32m    448\u001b[0m     latex\u001b[38;5;241m=\u001b[39m\u001b[38;5;28;01mFalse\u001b[39;00m,\n\u001b[1;32m    449\u001b[0m ):\n\u001b[0;32m--> 451\u001b[0m     n \u001b[38;5;241m=\u001b[39m \u001b[43mUSER\u001b[49m\u001b[38;5;241;43m.\u001b[39;49m\u001b[43mcheck_arrays\u001b[49m\u001b[43m(\u001b[49m\u001b[43my\u001b[49m\u001b[43m,\u001b[49m\u001b[43m \u001b[49m\u001b[43mx\u001b[49m\u001b[43m)\u001b[49m\n\u001b[1;32m    452\u001b[0m     y \u001b[38;5;241m=\u001b[39m USER\u001b[38;5;241m.\u001b[39mcheck_y(y, n)\n\u001b[1;32m    453\u001b[0m     USER\u001b[38;5;241m.\u001b[39mcheck_robust(robust, gwk)\n",
      "File \u001b[0;32m~/.local/lib/python3.10/site-packages/spreg/user_output.py:373\u001b[0m, in \u001b[0;36mcheck_arrays\u001b[0;34m(*arrays)\u001b[0m\n\u001b[1;32m    371\u001b[0m \u001b[38;5;28;01mif\u001b[39;00m shape[\u001b[38;5;241m0\u001b[39m] \u001b[38;5;241m<\u001b[39m shape[\u001b[38;5;241m1\u001b[39m]:\n\u001b[1;32m    372\u001b[0m     \u001b[38;5;28;01mraise\u001b[39;00m \u001b[38;5;167;01mException\u001b[39;00m(\u001b[38;5;124m\"\u001b[39m\u001b[38;5;124mone or more input arrays have more columns than rows\u001b[39m\u001b[38;5;124m\"\u001b[39m)\n\u001b[0;32m--> 373\u001b[0m \u001b[38;5;28;01mif\u001b[39;00m \u001b[38;5;129;01mnot\u001b[39;00m \u001b[43mspu\u001b[49m\u001b[38;5;241;43m.\u001b[39;49m\u001b[43mspisfinite\u001b[49m\u001b[43m(\u001b[49m\u001b[43mi\u001b[49m\u001b[43m)\u001b[49m:\n\u001b[1;32m    374\u001b[0m     \u001b[38;5;28;01mraise\u001b[39;00m \u001b[38;5;167;01mException\u001b[39;00m(\u001b[38;5;124m\"\u001b[39m\u001b[38;5;124mone or more input arrays have missing/NaN values\u001b[39m\u001b[38;5;124m\"\u001b[39m)\n\u001b[1;32m    375\u001b[0m rows\u001b[38;5;241m.\u001b[39mappend(shape[\u001b[38;5;241m0\u001b[39m])\n",
      "File \u001b[0;32m~/.local/lib/python3.10/site-packages/spreg/sputils.py:272\u001b[0m, in \u001b[0;36mspisfinite\u001b[0;34m(a)\u001b[0m\n\u001b[1;32m    258\u001b[0m \u001b[38;5;28;01mdef\u001b[39;00m \u001b[38;5;21mspisfinite\u001b[39m(a):\n\u001b[1;32m    259\u001b[0m     \u001b[38;5;124;03m\"\"\"\u001b[39;00m\n\u001b[1;32m    260\u001b[0m \u001b[38;5;124;03m    Determine whether an array has nan or inf values\u001b[39;00m\n\u001b[1;32m    261\u001b[0m \n\u001b[0;32m   (...)\u001b[0m\n\u001b[1;32m    270\u001b[0m \u001b[38;5;124;03m            denoting whether or not the array contains any NaN or inf\u001b[39;00m\n\u001b[1;32m    271\u001b[0m \u001b[38;5;124;03m    \"\"\"\u001b[39;00m\n\u001b[0;32m--> 272\u001b[0m     \u001b[38;5;28;01mreturn\u001b[39;00m np\u001b[38;5;241m.\u001b[39misfinite(\u001b[43ma\u001b[49m\u001b[38;5;241;43m.\u001b[39;49m\u001b[43msum\u001b[49m\u001b[43m(\u001b[49m\u001b[43m)\u001b[49m)\n",
      "File \u001b[0;32m~/.local/lib/python3.10/site-packages/numpy/core/_methods.py:49\u001b[0m, in \u001b[0;36m_sum\u001b[0;34m(a, axis, dtype, out, keepdims, initial, where)\u001b[0m\n\u001b[1;32m     47\u001b[0m \u001b[38;5;28;01mdef\u001b[39;00m \u001b[38;5;21m_sum\u001b[39m(a, axis\u001b[38;5;241m=\u001b[39m\u001b[38;5;28;01mNone\u001b[39;00m, dtype\u001b[38;5;241m=\u001b[39m\u001b[38;5;28;01mNone\u001b[39;00m, out\u001b[38;5;241m=\u001b[39m\u001b[38;5;28;01mNone\u001b[39;00m, keepdims\u001b[38;5;241m=\u001b[39m\u001b[38;5;28;01mFalse\u001b[39;00m,\n\u001b[1;32m     48\u001b[0m          initial\u001b[38;5;241m=\u001b[39m_NoValue, where\u001b[38;5;241m=\u001b[39m\u001b[38;5;28;01mTrue\u001b[39;00m):\n\u001b[0;32m---> 49\u001b[0m     \u001b[38;5;28;01mreturn\u001b[39;00m \u001b[43mumr_sum\u001b[49m\u001b[43m(\u001b[49m\u001b[43ma\u001b[49m\u001b[43m,\u001b[49m\u001b[43m \u001b[49m\u001b[43maxis\u001b[49m\u001b[43m,\u001b[49m\u001b[43m \u001b[49m\u001b[43mdtype\u001b[49m\u001b[43m,\u001b[49m\u001b[43m \u001b[49m\u001b[43mout\u001b[49m\u001b[43m,\u001b[49m\u001b[43m \u001b[49m\u001b[43mkeepdims\u001b[49m\u001b[43m,\u001b[49m\u001b[43m \u001b[49m\u001b[43minitial\u001b[49m\u001b[43m,\u001b[49m\u001b[43m \u001b[49m\u001b[43mwhere\u001b[49m\u001b[43m)\u001b[49m\n",
      "\u001b[0;31mTypeError\u001b[0m: unsupported operand type(s) for +: 'MultiPolygon' and 'MultiPolygon'"
     ]
    }
   ],
   "source": [
    "for i, (train, test) in enumerate(split_indices):\n",
    "    train_X = fire_X.iloc[train].values\n",
    "    train_y = fire_y.iloc[train].values\n",
    "    test_X = fire_X.iloc[test].values\n",
    "    test_y = fire_y.iloc[test].values\n",
    "\n",
    "    model = spreg.OLS(y=train_y, x=train_X)\n",
    "    results = open(f\"mult_lin_reg/{i}.txt\", \"w\")\n",
    "\n",
    "    results.write(model.summary())"
   ]
  }
 ],
 "metadata": {
  "kernelspec": {
   "display_name": "Python 3",
   "language": "python",
   "name": "python3"
  },
  "language_info": {
   "codemirror_mode": {
    "name": "ipython",
    "version": 3
   },
   "file_extension": ".py",
   "mimetype": "text/x-python",
   "name": "python",
   "nbconvert_exporter": "python",
   "pygments_lexer": "ipython3",
   "version": "3.10.12"
  }
 },
 "nbformat": 4,
 "nbformat_minor": 2
}
